{
 "cells": [
  {
   "cell_type": "markdown",
   "metadata": {
    "id": "NKeaIkdRqwi5"
   },
   "source": [
    "# Convert"
   ]
  },
  {
   "cell_type": "code",
   "execution_count": 2,
   "metadata": {
    "executionInfo": {
     "elapsed": 251,
     "status": "ok",
     "timestamp": 1642427247243,
     "user": {
      "displayName": "Frederic Becker",
      "photoUrl": "https://lh3.googleusercontent.com/a/default-user=s64",
      "userId": "02822531336283999073"
     },
     "user_tz": -60
    },
    "id": "gMZnew5zq6IL"
   },
   "outputs": [],
   "source": [
    "import numpy as np\n",
    "import pandas as pd\n",
    "import json\n",
    "import geopy.distance\n",
    "import random\n",
    "import math"
   ]
  },
  {
   "cell_type": "code",
   "execution_count": 3,
   "metadata": {
    "executionInfo": {
     "elapsed": 232,
     "status": "ok",
     "timestamp": 1642427248510,
     "user": {
      "displayName": "Frederic Becker",
      "photoUrl": "https://lh3.googleusercontent.com/a/default-user=s64",
      "userId": "02822531336283999073"
     },
     "user_tz": -60
    },
    "id": "NMQZ9B13q4Bj"
   },
   "outputs": [],
   "source": [
    "main_path = 'data/'\n",
    "data_files = ['driving.json', 'walking.json', 'bicycling.json']\n",
    "modes = ['driving', 'walking', 'bicycling']"
   ]
  },
  {
   "cell_type": "code",
   "execution_count": 42,
   "metadata": {
    "executionInfo": {
     "elapsed": 8002,
     "status": "ok",
     "timestamp": 1642427257807,
     "user": {
      "displayName": "Frederic Becker",
      "photoUrl": "https://lh3.googleusercontent.com/a/default-user=s64",
      "userId": "02822531336283999073"
     },
     "user_tz": -60
    },
    "id": "UmG_QOYSm2LS"
   },
   "outputs": [],
   "source": [
    "# load elevation data\n",
    "elevation_frame = pd.DataFrame({})\n",
    "with open(main_path + 'elevation.json', 'r') as f:\n",
    "  data = json.load(f)\n",
    "\n",
    "for query in data:\n",
    "  dict = query[0]\n",
    "\n",
    "  elevation_frame = elevation_frame.append({\n",
    "      'location': dict['location'],\n",
    "      'elevation': dict['elevation']\n",
    "  }, ignore_index=True)"
   ]
  },
  {
   "cell_type": "code",
   "execution_count": 43,
   "metadata": {
    "executionInfo": {
     "elapsed": 12,
     "status": "ok",
     "timestamp": 1642427257811,
     "user": {
      "displayName": "Frederic Becker",
      "photoUrl": "https://lh3.googleusercontent.com/a/default-user=s64",
      "userId": "02822531336283999073"
     },
     "user_tz": -60
    },
    "id": "6MZGV7oUo_Gf"
   },
   "outputs": [],
   "source": [
    "def get_closest_elevation(location):\n",
    "  distance = []\n",
    "\n",
    "  for index, row in elevation_frame.iterrows():\n",
    "    d = round(geopy.distance.vincenty(location.values(), row['location'].values()).km*1000)\n",
    "    distance.append(d)\n",
    "\n",
    "    # early stopping if close enough\n",
    "    if(d < 10):\n",
    "      return row['elevation']\n",
    "\n",
    "  return elevation_frame.elevation[np.argmin(distance)]\n",
    "\n"
   ]
  },
  {
   "cell_type": "code",
   "execution_count": 44,
   "metadata": {
    "executionInfo": {
     "elapsed": 827158,
     "status": "ok",
     "timestamp": 1642428085786,
     "user": {
      "displayName": "Frederic Becker",
      "photoUrl": "https://lh3.googleusercontent.com/a/default-user=s64",
      "userId": "02822531336283999073"
     },
     "user_tz": -60
    },
    "id": "3NOf24OOrvN5"
   },
   "outputs": [],
   "source": [
    "df = pd.DataFrame({})\n",
    "i = 0\n",
    "\n",
    "for data_file, mode in zip(data_files, modes):\n",
    "  with open(main_path + data_file, 'r') as f:\n",
    "    data = json.load(f)\n",
    "\n",
    "  start_elevation = get_closest_elevation(data[0][0]['legs'][0]['start_location'])\n",
    "\n",
    "  for query in data:\n",
    "    i+= 1\n",
    "    dict = query[0]['legs'][0]\n",
    "\n",
    "    df = df.append({\n",
    "      'start_location_lat': dict['start_location']['lat'],\n",
    "      'start_location_lng': dict['start_location']['lng'],\n",
    "      'end_location_lat': dict['end_location']['lat'],\n",
    "      'end_location_lng': dict['end_location']['lng'],\n",
    "      'distance_path': dict['distance']['value'],\n",
    "      'distance_horizontal': round(geopy.distance.vincenty(dict['start_location'].values(), dict['end_location'].values()).km*1000),\n",
    "      'distance_vertical': get_closest_elevation(dict['end_location']) - start_elevation,\n",
    "      'duration': dict['duration']['value'],\n",
    "      'mode': mode\n",
    "      }, ignore_index=True)"
   ]
  },
  {
   "cell_type": "code",
   "execution_count": 1,
   "metadata": {
    "colab": {
     "base_uri": "https://localhost:8080/",
     "height": 0
    },
    "executionInfo": {
     "elapsed": 850,
     "status": "error",
     "timestamp": 1642434531417,
     "user": {
      "displayName": "Frederic Becker",
      "photoUrl": "https://lh3.googleusercontent.com/a/default-user=s64",
      "userId": "02822531336283999073"
     },
     "user_tz": -60
    },
    "id": "8oXCZl3UrkwK",
    "outputId": "987cd591-6140-45d7-e37d-3a40fb10967a"
   },
   "outputs": [
    {
     "ename": "NameError",
     "evalue": "ignored",
     "output_type": "error",
     "traceback": [
      "\u001b[0;31m---------------------------------------------------------------------------\u001b[0m",
      "\u001b[0;31mNameError\u001b[0m                                 Traceback (most recent call last)",
      "\u001b[0;32m<ipython-input-1-c42a15b2c7cf>\u001b[0m in \u001b[0;36m<module>\u001b[0;34m()\u001b[0m\n\u001b[0;32m----> 1\u001b[0;31m \u001b[0mdf\u001b[0m\u001b[0;34m.\u001b[0m\u001b[0mhead\u001b[0m\u001b[0;34m(\u001b[0m\u001b[0;34m)\u001b[0m\u001b[0;34m\u001b[0m\u001b[0;34m\u001b[0m\u001b[0m\n\u001b[0m",
      "\u001b[0;31mNameError\u001b[0m: name 'df' is not defined"
     ]
    }
   ],
   "source": [
    "df.head()"
   ]
  },
  {
   "cell_type": "markdown",
   "metadata": {
    "id": "MhqlKMlwvoiu"
   },
   "source": [
    "# Store"
   ]
  },
  {
   "cell_type": "code",
   "execution_count": 45,
   "metadata": {
    "executionInfo": {
     "elapsed": 14,
     "status": "ok",
     "timestamp": 1642428085788,
     "user": {
      "displayName": "Frederic Becker",
      "photoUrl": "https://lh3.googleusercontent.com/a/default-user=s64",
      "userId": "02822531336283999073"
     },
     "user_tz": -60
    },
    "id": "D-PN_103vqEb"
   },
   "outputs": [],
   "source": [
    "df.to_csv(main_path + 'combined_data.csv', index=False)"
   ]
  }
 ],
 "metadata": {
  "colab": {
   "authorship_tag": "ABX9TyNZ5ls2ASNYznkVCN+h2Sjj",
   "collapsed_sections": [],
   "name": "01_json_to_csv.ipynb",
   "provenance": []
  },
  "kernelspec": {
   "display_name": "Python 3",
   "language": "python",
   "name": "python3"
  },
  "language_info": {
   "codemirror_mode": {
    "name": "ipython",
    "version": 3
   },
   "file_extension": ".py",
   "mimetype": "text/x-python",
   "name": "python",
   "nbconvert_exporter": "python",
   "pygments_lexer": "ipython3",
   "version": "3.7.4"
  }
 },
 "nbformat": 4,
 "nbformat_minor": 1
}
