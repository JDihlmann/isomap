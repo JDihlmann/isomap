{
 "cells": [
  {
   "cell_type": "markdown",
   "metadata": {
    "id": "NKeaIkdRqwi5"
   },
   "source": [
    "# JSON to CSV data conversion"
   ]
  },
  {
   "cell_type": "markdown",
   "metadata": {},
   "source": [
    "This Jupyter Notebook is part of the time travel distance project. This notebook merges the different datsets queried from the Google API into one csv file. It also drops additional query information and adds the closest elevation information that is avaliable in the elevation dataset.\n",
    "\n",
    "To estimate horizontal distances we use the geodesic distance approximation provided by the geopy package. "
   ]
  },
  {
   "cell_type": "markdown",
   "metadata": {},
   "source": [
    "## Import"
   ]
  },
  {
   "cell_type": "code",
   "execution_count": 11,
   "metadata": {
    "executionInfo": {
     "elapsed": 251,
     "status": "ok",
     "timestamp": 1642427247243,
     "user": {
      "displayName": "Frederic Becker",
      "photoUrl": "https://lh3.googleusercontent.com/a/default-user=s64",
      "userId": "02822531336283999073"
     },
     "user_tz": -60
    },
    "id": "gMZnew5zq6IL"
   },
   "outputs": [],
   "source": [
    "import numpy as np\n",
    "import pandas as pd\n",
    "import json\n",
    "from geopy import distance as distance_calculator\n",
    "from scipy.spatial import KDTree\n",
    "import random\n",
    "import math"
   ]
  },
  {
   "cell_type": "markdown",
   "metadata": {},
   "source": [
    "## Define paths"
   ]
  },
  {
   "cell_type": "code",
   "execution_count": 12,
   "metadata": {
    "executionInfo": {
     "elapsed": 232,
     "status": "ok",
     "timestamp": 1642427248510,
     "user": {
      "displayName": "Frederic Becker",
      "photoUrl": "https://lh3.googleusercontent.com/a/default-user=s64",
      "userId": "02822531336283999073"
     },
     "user_tz": -60
    },
    "id": "NMQZ9B13q4Bj"
   },
   "outputs": [],
   "source": [
    "main_path = 'data/'\n",
    "data_files = ['driving.json', 'walking.json', 'bicycling.json']\n",
    "modes = ['driving', 'walking', 'bicycling']"
   ]
  },
  {
   "cell_type": "markdown",
   "metadata": {},
   "source": [
    "## Load elevation data"
   ]
  },
  {
   "cell_type": "code",
   "execution_count": 13,
   "metadata": {
    "executionInfo": {
     "elapsed": 8002,
     "status": "ok",
     "timestamp": 1642427257807,
     "user": {
      "displayName": "Frederic Becker",
      "photoUrl": "https://lh3.googleusercontent.com/a/default-user=s64",
      "userId": "02822531336283999073"
     },
     "user_tz": -60
    },
    "id": "UmG_QOYSm2LS"
   },
   "outputs": [],
   "source": [
    "# empty frame\n",
    "elevation_frame = pd.DataFrame({})\n",
    "\n",
    "# read elevation data\n",
    "with open(main_path + 'elevation.json', 'r') as f:\n",
    "    data = json.load(f)\n",
    "\n",
    "# fill frame\n",
    "for query in data:\n",
    "    dict = query[0]\n",
    "\n",
    "    elevation_frame = elevation_frame.append({\n",
    "      'lat': dict['location']['lat'],\n",
    "      'lng': dict['location']['lng'],\n",
    "      'elevation': dict['elevation']\n",
    "    }, ignore_index=True)\n",
    "\n",
    "# construct KD tree for efficient nearest neighbour search\n",
    "elevation_kdtree = KDTree(np.stack((elevation_frame.lat.to_numpy(),\n",
    "                                    elevation_frame.lng.to_numpy()), axis=1))\n"
   ]
  },
  {
   "cell_type": "code",
   "execution_count": 14,
   "metadata": {
    "executionInfo": {
     "elapsed": 12,
     "status": "ok",
     "timestamp": 1642427257811,
     "user": {
      "displayName": "Frederic Becker",
      "photoUrl": "https://lh3.googleusercontent.com/a/default-user=s64",
      "userId": "02822531336283999073"
     },
     "user_tz": -60
    },
    "id": "6MZGV7oUo_Gf"
   },
   "outputs": [],
   "source": [
    "def get_closest_elevation(location):\n",
    "    \n",
    "    d, i = elevation_kdtree.query((location['lat'], location['lng']))\n",
    "    return elevation_frame.elevation[i]"
   ]
  },
  {
   "cell_type": "markdown",
   "metadata": {},
   "source": [
    "## Extract information from json and add to dataframe"
   ]
  },
  {
   "cell_type": "markdown",
   "metadata": {},
   "source": [
    "Loop through all datasets (one per mean of transport) and all entries (one per location) to:\n",
    "- extract start and target location\n",
    "- compute horizontal distance\n",
    "- find closest elevation point\n",
    "- compute vertical distances"
   ]
  },
  {
   "cell_type": "code",
   "execution_count": 24,
   "metadata": {
    "executionInfo": {
     "elapsed": 827158,
     "status": "ok",
     "timestamp": 1642428085786,
     "user": {
      "displayName": "Frederic Becker",
      "photoUrl": "https://lh3.googleusercontent.com/a/default-user=s64",
      "userId": "02822531336283999073"
     },
     "user_tz": -60
    },
    "id": "3NOf24OOrvN5"
   },
   "outputs": [
    {
     "name": "stdout",
     "output_type": "stream",
     "text": [
      "337.0936584472656\n",
      "337.0936584472656\n",
      "337.0936584472656\n"
     ]
    }
   ],
   "source": [
    "df = pd.DataFrame({})\n",
    "\n",
    "for data_file, mode in zip(data_files, modes):\n",
    "    \n",
    "    with open(main_path + data_file, 'r') as f:\n",
    "        data = json.load(f)\n",
    "\n",
    "    start_elevation = get_closest_elevation(data[0][0]['legs'][0]['start_location'])\n",
    "\n",
    "    for query in data:\n",
    "        dict = query[0]['legs'][0]\n",
    "        \n",
    "        # get horizontal difference in meters\n",
    "        distance_horizontal = round(distance_calculator.distance(dict['start_location'].values(), dict['end_location'].values()).km*1000)\n",
    "\n",
    "        # get vertical difference in meters\n",
    "        distance_vertical = get_closest_elevation(dict['end_location']) - start_elevation\n",
    "        \n",
    "        # positive vertical difference in meters\n",
    "        distance_vertical_pos = max(0, distance_vertical)\n",
    "       \n",
    "        # negative vertical difference in meters\n",
    "        distance_vertical_neg = abs(min(0, distance_vertical))\n",
    "        \n",
    "        # absolute vertical difference in meters\n",
    "        distance_vertical_abs = abs(distance_vertical)\n",
    "        \n",
    "        df = df.append({\n",
    "          'start_location_lat': dict['start_location']['lat'],\n",
    "          'start_location_lng': dict['start_location']['lng'],\n",
    "          'end_location_lat': dict['end_location']['lat'],\n",
    "          'end_location_lng': dict['end_location']['lng'],\n",
    "          'distance_path': dict['distance']['value'],\n",
    "          'distance_horizontal': distance_horizontal,\n",
    "          'distance_vertical': distance_vertical,\n",
    "          'distance_vertical_pos': distance_vertical_pos,\n",
    "          'distance_vertical_neg': distance_vertical_neg,\n",
    "          'distance_vertical_abs': distance_vertical_abs,\n",
    "          'duration': dict['duration']['value'],\n",
    "          'mode': mode\n",
    "          }, ignore_index=True)"
   ]
  },
  {
   "cell_type": "markdown",
   "metadata": {},
   "source": [
    "## Preview"
   ]
  },
  {
   "cell_type": "code",
   "execution_count": 25,
   "metadata": {
    "colab": {
     "base_uri": "https://localhost:8080/",
     "height": 0
    },
    "executionInfo": {
     "elapsed": 850,
     "status": "error",
     "timestamp": 1642434531417,
     "user": {
      "displayName": "Frederic Becker",
      "photoUrl": "https://lh3.googleusercontent.com/a/default-user=s64",
      "userId": "02822531336283999073"
     },
     "user_tz": -60
    },
    "id": "8oXCZl3UrkwK",
    "outputId": "987cd591-6140-45d7-e37d-3a40fb10967a"
   },
   "outputs": [
    {
     "data": {
      "text/html": [
       "<div>\n",
       "<style scoped>\n",
       "    .dataframe tbody tr th:only-of-type {\n",
       "        vertical-align: middle;\n",
       "    }\n",
       "\n",
       "    .dataframe tbody tr th {\n",
       "        vertical-align: top;\n",
       "    }\n",
       "\n",
       "    .dataframe thead th {\n",
       "        text-align: right;\n",
       "    }\n",
       "</style>\n",
       "<table border=\"1\" class=\"dataframe\">\n",
       "  <thead>\n",
       "    <tr style=\"text-align: right;\">\n",
       "      <th></th>\n",
       "      <th>distance_horizontal</th>\n",
       "      <th>distance_path</th>\n",
       "      <th>distance_vertical</th>\n",
       "      <th>distance_vertical_abs</th>\n",
       "      <th>distance_vertical_neg</th>\n",
       "      <th>distance_vertical_pos</th>\n",
       "      <th>duration</th>\n",
       "      <th>end_location_lat</th>\n",
       "      <th>end_location_lng</th>\n",
       "      <th>mode</th>\n",
       "      <th>start_location_lat</th>\n",
       "      <th>start_location_lng</th>\n",
       "    </tr>\n",
       "  </thead>\n",
       "  <tbody>\n",
       "    <tr>\n",
       "      <td>0</td>\n",
       "      <td>4216.0</td>\n",
       "      <td>8608.0</td>\n",
       "      <td>101.332123</td>\n",
       "      <td>101.332123</td>\n",
       "      <td>0.0</td>\n",
       "      <td>101.332123</td>\n",
       "      <td>941.0</td>\n",
       "      <td>48.494872</td>\n",
       "      <td>9.095148</td>\n",
       "      <td>driving</td>\n",
       "      <td>48.520281</td>\n",
       "      <td>9.052807</td>\n",
       "    </tr>\n",
       "    <tr>\n",
       "      <td>1</td>\n",
       "      <td>4149.0</td>\n",
       "      <td>8152.0</td>\n",
       "      <td>97.190277</td>\n",
       "      <td>97.190277</td>\n",
       "      <td>0.0</td>\n",
       "      <td>97.190277</td>\n",
       "      <td>919.0</td>\n",
       "      <td>48.496965</td>\n",
       "      <td>9.096650</td>\n",
       "      <td>driving</td>\n",
       "      <td>48.520281</td>\n",
       "      <td>9.052807</td>\n",
       "    </tr>\n",
       "    <tr>\n",
       "      <td>2</td>\n",
       "      <td>3969.0</td>\n",
       "      <td>8509.0</td>\n",
       "      <td>99.422424</td>\n",
       "      <td>99.422424</td>\n",
       "      <td>0.0</td>\n",
       "      <td>99.422424</td>\n",
       "      <td>886.0</td>\n",
       "      <td>48.498032</td>\n",
       "      <td>9.094813</td>\n",
       "      <td>driving</td>\n",
       "      <td>48.520281</td>\n",
       "      <td>9.052807</td>\n",
       "    </tr>\n",
       "    <tr>\n",
       "      <td>3</td>\n",
       "      <td>3955.0</td>\n",
       "      <td>8235.0</td>\n",
       "      <td>99.761536</td>\n",
       "      <td>99.761536</td>\n",
       "      <td>0.0</td>\n",
       "      <td>99.761536</td>\n",
       "      <td>925.0</td>\n",
       "      <td>48.498713</td>\n",
       "      <td>9.095367</td>\n",
       "      <td>driving</td>\n",
       "      <td>48.520281</td>\n",
       "      <td>9.052807</td>\n",
       "    </tr>\n",
       "    <tr>\n",
       "      <td>4</td>\n",
       "      <td>3821.0</td>\n",
       "      <td>7803.0</td>\n",
       "      <td>96.327454</td>\n",
       "      <td>96.327454</td>\n",
       "      <td>0.0</td>\n",
       "      <td>96.327454</td>\n",
       "      <td>815.0</td>\n",
       "      <td>48.500307</td>\n",
       "      <td>9.094886</td>\n",
       "      <td>driving</td>\n",
       "      <td>48.520281</td>\n",
       "      <td>9.052807</td>\n",
       "    </tr>\n",
       "  </tbody>\n",
       "</table>\n",
       "</div>"
      ],
      "text/plain": [
       "   distance_horizontal  distance_path  distance_vertical  \\\n",
       "0               4216.0         8608.0         101.332123   \n",
       "1               4149.0         8152.0          97.190277   \n",
       "2               3969.0         8509.0          99.422424   \n",
       "3               3955.0         8235.0          99.761536   \n",
       "4               3821.0         7803.0          96.327454   \n",
       "\n",
       "   distance_vertical_abs  distance_vertical_neg  distance_vertical_pos  \\\n",
       "0             101.332123                    0.0             101.332123   \n",
       "1              97.190277                    0.0              97.190277   \n",
       "2              99.422424                    0.0              99.422424   \n",
       "3              99.761536                    0.0              99.761536   \n",
       "4              96.327454                    0.0              96.327454   \n",
       "\n",
       "   duration  end_location_lat  end_location_lng     mode  start_location_lat  \\\n",
       "0     941.0         48.494872          9.095148  driving           48.520281   \n",
       "1     919.0         48.496965          9.096650  driving           48.520281   \n",
       "2     886.0         48.498032          9.094813  driving           48.520281   \n",
       "3     925.0         48.498713          9.095367  driving           48.520281   \n",
       "4     815.0         48.500307          9.094886  driving           48.520281   \n",
       "\n",
       "   start_location_lng  \n",
       "0            9.052807  \n",
       "1            9.052807  \n",
       "2            9.052807  \n",
       "3            9.052807  \n",
       "4            9.052807  "
      ]
     },
     "execution_count": 25,
     "metadata": {},
     "output_type": "execute_result"
    }
   ],
   "source": [
    "df.head()"
   ]
  },
  {
   "cell_type": "markdown",
   "metadata": {
    "id": "MhqlKMlwvoiu"
   },
   "source": [
    "## Store"
   ]
  },
  {
   "cell_type": "code",
   "execution_count": 26,
   "metadata": {
    "executionInfo": {
     "elapsed": 14,
     "status": "ok",
     "timestamp": 1642428085788,
     "user": {
      "displayName": "Frederic Becker",
      "photoUrl": "https://lh3.googleusercontent.com/a/default-user=s64",
      "userId": "02822531336283999073"
     },
     "user_tz": -60
    },
    "id": "D-PN_103vqEb"
   },
   "outputs": [],
   "source": [
    "df.to_csv(main_path + 'combined_data.csv', index=False)"
   ]
  }
 ],
 "metadata": {
  "colab": {
   "authorship_tag": "ABX9TyNZ5ls2ASNYznkVCN+h2Sjj",
   "collapsed_sections": [],
   "name": "01_json_to_csv.ipynb",
   "provenance": []
  },
  "kernelspec": {
   "display_name": "Python 3",
   "language": "python",
   "name": "python3"
  },
  "language_info": {
   "codemirror_mode": {
    "name": "ipython",
    "version": 3
   },
   "file_extension": ".py",
   "mimetype": "text/x-python",
   "name": "python",
   "nbconvert_exporter": "python",
   "pygments_lexer": "ipython3",
   "version": "3.7.4"
  }
 },
 "nbformat": 4,
 "nbformat_minor": 1
}
