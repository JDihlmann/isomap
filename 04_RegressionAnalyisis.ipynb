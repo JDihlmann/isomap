{
 "cells": [
  {
   "cell_type": "markdown",
   "metadata": {},
   "source": [
    "# Regression Analysis"
   ]
  },
  {
   "cell_type": "markdown",
   "metadata": {},
   "source": [
    "This Jupyter Notebook is part of the time travel distance project. In this notebook we use linear regression to estimate the travel duration between the Tübinger town hall (start location) and various places in Tübingen. "
   ]
  },
  {
   "cell_type": "code",
   "execution_count": 55,
   "metadata": {
    "executionInfo": {
     "elapsed": 233,
     "status": "ok",
     "timestamp": 1642434630159,
     "user": {
      "displayName": "Frederic Becker",
      "photoUrl": "https://lh3.googleusercontent.com/a/default-user=s64",
      "userId": "02822531336283999073"
     },
     "user_tz": -60
    },
    "id": "rtJaTo9-wUvF"
   },
   "outputs": [],
   "source": [
    "import numpy as np\n",
    "import pandas as pd\n",
    "import statsmodels.formula.api as smf\n",
    "import matplotlib.pyplot as plt\n",
    "\n",
    "from IPython.display import Image\n",
    "from IPython.core.display import HTML "
   ]
  },
  {
   "cell_type": "code",
   "execution_count": 56,
   "metadata": {
    "executionInfo": {
     "elapsed": 479,
     "status": "ok",
     "timestamp": 1642434568083,
     "user": {
      "displayName": "Frederic Becker",
      "photoUrl": "https://lh3.googleusercontent.com/a/default-user=s64",
      "userId": "02822531336283999073"
     },
     "user_tz": -60
    },
    "id": "j7Dq89jKwdyN"
   },
   "outputs": [],
   "source": [
    "# read data\n",
    "df = pd.read_csv('data/combined_data.csv')"
   ]
  },
  {
   "cell_type": "code",
   "execution_count": 57,
   "metadata": {
    "executionInfo": {
     "elapsed": 355,
     "status": "ok",
     "timestamp": 1642434576364,
     "user": {
      "displayName": "Frederic Becker",
      "photoUrl": "https://lh3.googleusercontent.com/a/default-user=s64",
      "userId": "02822531336283999073"
     },
     "user_tz": -60
    },
    "id": "3gXH6jWH5tce"
   },
   "outputs": [],
   "source": [
    "# convert to dummy variables for nested models\n",
    "df['isWalking'] = df['mode'].isin(['walking'])\n",
    "df['isBicycling'] = df['mode'].isin(['bicycling', 'walking'])\n",
    "\n",
    "# baseline aplies to:       driving,bicycling and walking\n",
    "# isBicycling applies to:   bicycling and walking\n",
    "# isWalking applies to:     walking"
   ]
  },
  {
   "cell_type": "markdown",
   "metadata": {
    "id": "Nh_VqWXPwoa5"
   },
   "source": [
    "# Only horizontal Model"
   ]
  },
  {
   "cell_type": "markdown",
   "metadata": {},
   "source": [
    "In this model, we only consider the horizontal distance (for each mean of transport seperately) as predictor. "
   ]
  },
  {
   "cell_type": "code",
   "execution_count": 58,
   "metadata": {
    "executionInfo": {
     "elapsed": 236,
     "status": "ok",
     "timestamp": 1642434582839,
     "user": {
      "displayName": "Frederic Becker",
      "photoUrl": "https://lh3.googleusercontent.com/a/default-user=s64",
      "userId": "02822531336283999073"
     },
     "user_tz": -60
    },
    "id": "pL-WMkoU5weq"
   },
   "outputs": [],
   "source": [
    "# create and fit model\n",
    "model_horiz = smf.ols(formula='duration ~ distance_horizontal + distance_horizontal:isBicycling + distance_horizontal:isWalking - 1', data=df)\n",
    "fit_horiz = model_horiz.fit()"
   ]
  },
  {
   "cell_type": "code",
   "execution_count": 59,
   "metadata": {
    "colab": {
     "base_uri": "https://localhost:8080/",
     "height": 282
    },
    "executionInfo": {
     "elapsed": 632,
     "status": "ok",
     "timestamp": 1642434584466,
     "user": {
      "displayName": "Frederic Becker",
      "photoUrl": "https://lh3.googleusercontent.com/a/default-user=s64",
      "userId": "02822531336283999073"
     },
     "user_tz": -60
    },
    "id": "qN3jsfaNNN10",
    "outputId": "c97f3d1f-0f10-441f-f8a4-aadac1fb1957"
   },
   "outputs": [
    {
     "data": {
      "image/png": "[encoded data removed]",
      "text/plain": [
       "<Figure size 432x288 with 1 Axes>"
      ]
     },
     "metadata": {
      "needs_background": "light"
     },
     "output_type": "display_data"
    }
   ],
   "source": [
    "# residuals plot\n",
    "fit_horiz.resid.hist(bins=100);"
   ]
  },
  {
   "cell_type": "code",
   "execution_count": 60,
   "metadata": {
    "colab": {
     "base_uri": "https://localhost:8080/",
     "height": 513
    },
    "executionInfo": {
     "elapsed": 12,
     "status": "ok",
     "timestamp": 1642434585729,
     "user": {
      "displayName": "Frederic Becker",
      "photoUrl": "https://lh3.googleusercontent.com/a/default-user=s64",
      "userId": "02822531336283999073"
     },
     "user_tz": -60
    },
    "id": "ydnIgmOj580b",
    "outputId": "9465f6ed-a108-43b9-fee4-2291ab060f7f"
   },
   "outputs": [
    {
     "data": {
      "text/html": [
       "<table class=\"simpletable\">\n",
       "<caption>OLS Regression Results</caption>\n",
       "<tr>\n",
       "  <th>Dep. Variable:</th>        <td>duration</td>     <th>  R-squared (uncentered):</th>      <td>   0.970</td> \n",
       "</tr>\n",
       "<tr>\n",
       "  <th>Model:</th>                   <td>OLS</td>       <th>  Adj. R-squared (uncentered):</th> <td>   0.970</td> \n",
       "</tr>\n",
       "<tr>\n",
       "  <th>Method:</th>             <td>Least Squares</td>  <th>  F-statistic:       </th>          <td>5.260e+04</td>\n",
       "</tr>\n",
       "<tr>\n",
       "  <th>Date:</th>             <td>Sat, 29 Jan 2022</td> <th>  Prob (F-statistic):</th>           <td>  0.00</td>  \n",
       "</tr>\n",
       "<tr>\n",
       "  <th>Time:</th>                 <td>23:42:27</td>     <th>  Log-Likelihood:    </th>          <td> -33645.</td> \n",
       "</tr>\n",
       "<tr>\n",
       "  <th>No. Observations:</th>      <td>  4800</td>      <th>  AIC:               </th>          <td>6.730e+04</td>\n",
       "</tr>\n",
       "<tr>\n",
       "  <th>Df Residuals:</th>          <td>  4797</td>      <th>  BIC:               </th>          <td>6.732e+04</td>\n",
       "</tr>\n",
       "<tr>\n",
       "  <th>Df Model:</th>              <td>     3</td>      <th>                     </th>              <td> </td>    \n",
       "</tr>\n",
       "<tr>\n",
       "  <th>Covariance Type:</th>      <td>nonrobust</td>    <th>                     </th>              <td> </td>    \n",
       "</tr>\n",
       "</table>\n",
       "<table class=\"simpletable\">\n",
       "<tr>\n",
       "                     <td></td>                        <th>coef</th>     <th>std err</th>      <th>t</th>      <th>P>|t|</th>  <th>[0.025</th>    <th>0.975]</th>  \n",
       "</tr>\n",
       "<tr>\n",
       "  <th>distance_horizontal</th>                     <td>    0.2663</td> <td>    0.003</td> <td>   97.795</td> <td> 0.000</td> <td>    0.261</td> <td>    0.272</td>\n",
       "</tr>\n",
       "<tr>\n",
       "  <th>distance_horizontal:isBicycling[T.True]</th> <td>    0.1473</td> <td>    0.004</td> <td>   38.219</td> <td> 0.000</td> <td>    0.140</td> <td>    0.155</td>\n",
       "</tr>\n",
       "<tr>\n",
       "  <th>distance_horizontal:isWalking[T.True]</th>   <td>    0.5514</td> <td>    0.004</td> <td>  143.008</td> <td> 0.000</td> <td>    0.544</td> <td>    0.559</td>\n",
       "</tr>\n",
       "</table>\n",
       "<table class=\"simpletable\">\n",
       "<tr>\n",
       "  <th>Omnibus:</th>       <td>255.999</td> <th>  Durbin-Watson:     </th> <td>   0.438</td> \n",
       "</tr>\n",
       "<tr>\n",
       "  <th>Prob(Omnibus):</th> <td> 0.000</td>  <th>  Jarque-Bera (JB):  </th> <td> 524.049</td> \n",
       "</tr>\n",
       "<tr>\n",
       "  <th>Skew:</th>          <td> 0.371</td>  <th>  Prob(JB):          </th> <td>1.60e-114</td>\n",
       "</tr>\n",
       "<tr>\n",
       "  <th>Kurtosis:</th>      <td> 4.439</td>  <th>  Cond. No.          </th> <td>    4.05</td> \n",
       "</tr>\n",
       "</table><br/><br/>Warnings:<br/>[1] Standard Errors assume that the covariance matrix of the errors is correctly specified."
      ],
      "text/plain": [
       "<class 'statsmodels.iolib.summary.Summary'>\n",
       "\"\"\"\n",
       "                                 OLS Regression Results                                \n",
       "=======================================================================================\n",
       "Dep. Variable:               duration   R-squared (uncentered):                   0.970\n",
       "Model:                            OLS   Adj. R-squared (uncentered):              0.970\n",
       "Method:                 Least Squares   F-statistic:                          5.260e+04\n",
       "Date:                Sat, 29 Jan 2022   Prob (F-statistic):                        0.00\n",
       "Time:                        23:42:27   Log-Likelihood:                         -33645.\n",
       "No. Observations:                4800   AIC:                                  6.730e+04\n",
       "Df Residuals:                    4797   BIC:                                  6.732e+04\n",
       "Df Model:                           3                                                  \n",
       "Covariance Type:            nonrobust                                                  \n",
       "===========================================================================================================\n",
       "                                              coef    std err          t      P>|t|      [0.025      0.975]\n",
       "-----------------------------------------------------------------------------------------------------------\n",
       "distance_horizontal                         0.2663      0.003     97.795      0.000       0.261       0.272\n",
       "distance_horizontal:isBicycling[T.True]     0.1473      0.004     38.219      0.000       0.140       0.155\n",
       "distance_horizontal:isWalking[T.True]       0.5514      0.004    143.008      0.000       0.544       0.559\n",
       "==============================================================================\n",
       "Omnibus:                      255.999   Durbin-Watson:                   0.438\n",
       "Prob(Omnibus):                  0.000   Jarque-Bera (JB):              524.049\n",
       "Skew:                           0.371   Prob(JB):                    1.60e-114\n",
       "Kurtosis:                       4.439   Cond. No.                         4.05\n",
       "==============================================================================\n",
       "\n",
       "Warnings:\n",
       "[1] Standard Errors assume that the covariance matrix of the errors is correctly specified.\n",
       "\"\"\""
      ]
     },
     "execution_count": 60,
     "metadata": {},
     "output_type": "execute_result"
    }
   ],
   "source": [
    "fit_horiz.summary()"
   ]
  },
  {
   "cell_type": "markdown",
   "metadata": {
    "id": "oaGj9kXk7OEG"
   },
   "source": [
    "# Combined Model"
   ]
  },
  {
   "cell_type": "markdown",
   "metadata": {},
   "source": [
    "In this model, we consider the horizontal distance (for each mean of transport seperately) and the  vertical distance (for each mean of transport seperately) as predictors. "
   ]
  },
  {
   "cell_type": "code",
   "execution_count": 27,
   "metadata": {
    "executionInfo": {
     "elapsed": 236,
     "status": "ok",
     "timestamp": 1642434766231,
     "user": {
      "displayName": "Frederic Becker",
      "photoUrl": "https://lh3.googleusercontent.com/a/default-user=s64",
      "userId": "02822531336283999073"
     },
     "user_tz": -60
    },
    "id": "eA8cch0R7P5_"
   },
   "outputs": [],
   "source": [
    "# create and fit\n",
    "model_combi_abs = smf.ols(formula='duration ~ distance_horizontal + distance_horizontal:isBicycling + distance_horizontal:isWalking + distance_vertical_abs + distance_vertical_abs:isBicycling + distance_vertical_abs:isWalking - 1', data=df)\n",
    "fit_combi_abs = model_combi_abs.fit()\n"
   ]
  },
  {
   "cell_type": "code",
   "execution_count": 28,
   "metadata": {
    "colab": {
     "base_uri": "https://localhost:8080/",
     "height": 282
    },
    "executionInfo": {
     "elapsed": 493,
     "status": "ok",
     "timestamp": 1642434767821,
     "user": {
      "displayName": "Frederic Becker",
      "photoUrl": "https://lh3.googleusercontent.com/a/default-user=s64",
      "userId": "02822531336283999073"
     },
     "user_tz": -60
    },
    "id": "EwP6eI_5NX8i",
    "outputId": "a5d9e7de-dd00-4fcf-89a5-30175726c1ff"
   },
   "outputs": [
    {
     "data": {
      "image/png": "[encoded data removed]",
      "text/plain": [
       "<Figure size 432x288 with 1 Axes>"
      ]
     },
     "metadata": {
      "needs_background": "light"
     },
     "output_type": "display_data"
    }
   ],
   "source": [
    "# residuals plot\n",
    "fit_combi_abs.resid.hist(bins=100);"
   ]
  },
  {
   "cell_type": "code",
   "execution_count": 29,
   "metadata": {},
   "outputs": [
    {
     "data": {
      "text/html": [
       "<table class=\"simpletable\">\n",
       "<caption>OLS Regression Results</caption>\n",
       "<tr>\n",
       "  <th>Dep. Variable:</th>        <td>duration</td>     <th>  R-squared (uncentered):</th>      <td>   0.983</td> \n",
       "</tr>\n",
       "<tr>\n",
       "  <th>Model:</th>                   <td>OLS</td>       <th>  Adj. R-squared (uncentered):</th> <td>   0.983</td> \n",
       "</tr>\n",
       "<tr>\n",
       "  <th>Method:</th>             <td>Least Squares</td>  <th>  F-statistic:       </th>          <td>4.748e+04</td>\n",
       "</tr>\n",
       "<tr>\n",
       "  <th>Date:</th>             <td>Thu, 27 Jan 2022</td> <th>  Prob (F-statistic):</th>           <td>  0.00</td>  \n",
       "</tr>\n",
       "<tr>\n",
       "  <th>Time:</th>                 <td>12:16:46</td>     <th>  Log-Likelihood:    </th>          <td> -32257.</td> \n",
       "</tr>\n",
       "<tr>\n",
       "  <th>No. Observations:</th>      <td>  4800</td>      <th>  AIC:               </th>          <td>6.453e+04</td>\n",
       "</tr>\n",
       "<tr>\n",
       "  <th>Df Residuals:</th>          <td>  4794</td>      <th>  BIC:               </th>          <td>6.457e+04</td>\n",
       "</tr>\n",
       "<tr>\n",
       "  <th>Df Model:</th>              <td>     6</td>      <th>                     </th>              <td> </td>    \n",
       "</tr>\n",
       "<tr>\n",
       "  <th>Covariance Type:</th>      <td>nonrobust</td>    <th>                     </th>              <td> </td>    \n",
       "</tr>\n",
       "</table>\n",
       "<table class=\"simpletable\">\n",
       "<tr>\n",
       "                      <td></td>                         <th>coef</th>     <th>std err</th>      <th>t</th>      <th>P>|t|</th>  <th>[0.025</th>    <th>0.975]</th>  \n",
       "</tr>\n",
       "<tr>\n",
       "  <th>distance_horizontal</th>                       <td>    0.2481</td> <td>    0.003</td> <td>   77.597</td> <td> 0.000</td> <td>    0.242</td> <td>    0.254</td>\n",
       "</tr>\n",
       "<tr>\n",
       "  <th>distance_horizontal:isBicycling[T.True]</th>   <td>    0.0322</td> <td>    0.005</td> <td>    7.016</td> <td> 0.000</td> <td>    0.023</td> <td>    0.041</td>\n",
       "</tr>\n",
       "<tr>\n",
       "  <th>distance_horizontal:isWalking[T.True]</th>     <td>    0.6018</td> <td>    0.005</td> <td>  129.253</td> <td> 0.000</td> <td>    0.593</td> <td>    0.611</td>\n",
       "</tr>\n",
       "<tr>\n",
       "  <th>distance_vertical_abs</th>                     <td>    0.9326</td> <td>    0.126</td> <td>    7.401</td> <td> 0.000</td> <td>    0.686</td> <td>    1.180</td>\n",
       "</tr>\n",
       "<tr>\n",
       "  <th>distance_vertical_abs:isBicycling[T.True]</th> <td>    5.4756</td> <td>    0.177</td> <td>   30.967</td> <td> 0.000</td> <td>    5.129</td> <td>    5.822</td>\n",
       "</tr>\n",
       "<tr>\n",
       "  <th>distance_vertical_abs:isWalking[T.True]</th>   <td>   -2.4277</td> <td>    0.175</td> <td>  -13.834</td> <td> 0.000</td> <td>   -2.772</td> <td>   -2.084</td>\n",
       "</tr>\n",
       "</table>\n",
       "<table class=\"simpletable\">\n",
       "<tr>\n",
       "  <th>Omnibus:</th>       <td>1421.045</td> <th>  Durbin-Watson:     </th> <td>   0.562</td>\n",
       "</tr>\n",
       "<tr>\n",
       "  <th>Prob(Omnibus):</th>  <td> 0.000</td>  <th>  Jarque-Bera (JB):  </th> <td>7911.518</td>\n",
       "</tr>\n",
       "<tr>\n",
       "  <th>Skew:</th>           <td> 1.300</td>  <th>  Prob(JB):          </th> <td>    0.00</td>\n",
       "</tr>\n",
       "<tr>\n",
       "  <th>Kurtosis:</th>       <td> 8.726</td>  <th>  Cond. No.          </th> <td>    247.</td>\n",
       "</tr>\n",
       "</table><br/><br/>Warnings:<br/>[1] Standard Errors assume that the covariance matrix of the errors is correctly specified."
      ],
      "text/plain": [
       "<class 'statsmodels.iolib.summary.Summary'>\n",
       "\"\"\"\n",
       "                                 OLS Regression Results                                \n",
       "=======================================================================================\n",
       "Dep. Variable:               duration   R-squared (uncentered):                   0.983\n",
       "Model:                            OLS   Adj. R-squared (uncentered):              0.983\n",
       "Method:                 Least Squares   F-statistic:                          4.748e+04\n",
       "Date:                Thu, 27 Jan 2022   Prob (F-statistic):                        0.00\n",
       "Time:                        12:16:46   Log-Likelihood:                         -32257.\n",
       "No. Observations:                4800   AIC:                                  6.453e+04\n",
       "Df Residuals:                    4794   BIC:                                  6.457e+04\n",
       "Df Model:                           6                                                  \n",
       "Covariance Type:            nonrobust                                                  \n",
       "=============================================================================================================\n",
       "                                                coef    std err          t      P>|t|      [0.025      0.975]\n",
       "-------------------------------------------------------------------------------------------------------------\n",
       "distance_horizontal                           0.2481      0.003     77.597      0.000       0.242       0.254\n",
       "distance_horizontal:isBicycling[T.True]       0.0322      0.005      7.016      0.000       0.023       0.041\n",
       "distance_horizontal:isWalking[T.True]         0.6018      0.005    129.253      0.000       0.593       0.611\n",
       "distance_vertical_abs                         0.9326      0.126      7.401      0.000       0.686       1.180\n",
       "distance_vertical_abs:isBicycling[T.True]     5.4756      0.177     30.967      0.000       5.129       5.822\n",
       "distance_vertical_abs:isWalking[T.True]      -2.4277      0.175    -13.834      0.000      -2.772      -2.084\n",
       "==============================================================================\n",
       "Omnibus:                     1421.045   Durbin-Watson:                   0.562\n",
       "Prob(Omnibus):                  0.000   Jarque-Bera (JB):             7911.518\n",
       "Skew:                           1.300   Prob(JB):                         0.00\n",
       "Kurtosis:                       8.726   Cond. No.                         247.\n",
       "==============================================================================\n",
       "\n",
       "Warnings:\n",
       "[1] Standard Errors assume that the covariance matrix of the errors is correctly specified.\n",
       "\"\"\""
      ]
     },
     "execution_count": 29,
     "metadata": {},
     "output_type": "execute_result"
    }
   ],
   "source": [
    "fit_combi_abs.summary()"
   ]
  },
  {
   "cell_type": "markdown",
   "metadata": {},
   "source": [
    "### Convert estaimates from seconds per meter (sec/m) to kilometer per hour (km/h)"
   ]
  },
  {
   "cell_type": "code",
   "execution_count": 54,
   "metadata": {},
   "outputs": [
    {
     "name": "stdout",
     "output_type": "stream",
     "text": [
      "\n",
      "Final estimates in km/h:\n",
      "distance_horizontal :  17.028\n",
      "distance_horizontal:isBicycling[T.True] :  12.752\n",
      "distance_horizontal:isWalking[T.True] :  4.039\n",
      "distance_vertical_pos :  1.954\n",
      "distance_vertical_pos:isBicycling[T.True] :  0.566\n",
      "distance_vertical_pos:isWalking[T.True] :  0.959\n",
      "\n",
      "Ratio between horizontal and vertical speed:\n",
      "Driving:  8.714\n",
      "Bicycling:  22.53\n",
      "Walking:  4.212\n"
     ]
    }
   ],
   "source": [
    "# compute km/h\n",
    "speeds = []\n",
    "arr = []\n",
    "\n",
    "print('\\nFinal estimates in km/h:')\n",
    "\n",
    "for i,param,name in zip(range(len(fit_combi_abs.params)),fit_combi.params, fit_combi.params.keys()):\n",
    "    if i % 3 == 0:\n",
    "        arr = []\n",
    "    arr.append(param)\n",
    "    \n",
    "    speeds.append(round(60*60/np.sum(arr)/1000,3))\n",
    "    print(name, ': ', speeds[-1])\n",
    "\n",
    "print('\\nRatio between horizontal and vertical speed:')\n",
    "print('Driving: ', round(speeds[0] / speeds[3],3))\n",
    "print('Bicycling: ', round(speeds[1] / speeds[4],3))\n",
    "print('Walking: ', round(speeds[2] / speeds[5],3))"
   ]
  },
  {
   "cell_type": "code",
   "execution_count": 14,
   "metadata": {},
   "outputs": [
    {
     "data": {
      "text/html": [
       "<img src=\"https://nationaler-radverkehrsplan.de/sites/default/files/images/nachrichten/srv-2018-06-weghaeufigkeit-vergleich-fahrrad-pedelec-topografie.jpg\"/>"
      ],
      "text/plain": [
       "<IPython.core.display.Image object>"
      ]
     },
     "execution_count": 14,
     "metadata": {},
     "output_type": "execute_result"
    }
   ],
   "source": [
    "Image(url= \"https://nationaler-radverkehrsplan.de/sites/default/files/images/nachrichten/srv-2018-06-weghaeufigkeit-vergleich-fahrrad-pedelec-topografie.jpg\")"
   ]
  },
  {
   "cell_type": "markdown",
   "metadata": {
    "id": "GSrWOGIDN3mk"
   },
   "source": [
    "# Comparison"
   ]
  },
  {
   "cell_type": "markdown",
   "metadata": {},
   "source": [
    "### BIC"
   ]
  },
  {
   "cell_type": "code",
   "execution_count": 38,
   "metadata": {},
   "outputs": [
    {
     "name": "stdout",
     "output_type": "stream",
     "text": [
      "Only Horizontal:\t \t 67315.0\n",
      "Horizontal + Vertical: \t\t 64566.0\n",
      "Horizontal + Uphill + Downhill:  64311.0\n"
     ]
    }
   ],
   "source": [
    "print('Only Horizontal:\\t \\t', round(fit_horiz.bic))\n",
    "print('Horizontal + Vertical: \\t\\t', round(fit_combi_abs.bic))"
   ]
  },
  {
   "cell_type": "markdown",
   "metadata": {},
   "source": [
    "### Mean absolute error"
   ]
  },
  {
   "cell_type": "code",
   "execution_count": 39,
   "metadata": {},
   "outputs": [
    {
     "name": "stdout",
     "output_type": "stream",
     "text": [
      "Only Horizontal: \t\t 3.43\n",
      "Horizontal + Vertical: \t\t 2.51\n",
      "Horizontal + Uphill + Downhill:  2.41\n"
     ]
    }
   ],
   "source": [
    "print('Only Horizontal: \\t\\t', round(np.mean(np.abs(fit_horiz.resid))/60, 2))\n",
    "print('Horizontal + Vertical: \\t\\t', round(np.mean(np.abs(fit_combi_abs.resid))/60, 2))"
   ]
  },
  {
   "cell_type": "markdown",
   "metadata": {},
   "source": [
    "### Mean relative error"
   ]
  },
  {
   "cell_type": "code",
   "execution_count": 61,
   "metadata": {},
   "outputs": [
    {
     "name": "stdout",
     "output_type": "stream",
     "text": [
      "Only Horizontal: \t\t 0.22\n",
      "Horizontal + Vertical: \t\t 0.16\n"
     ]
    }
   ],
   "source": [
    "print('Only Horizontal: \\t\\t', round(np.mean(np.abs(fit_horiz.resid) / df.duration), 2))\n",
    "print('Horizontal + Vertical: \\t\\t', round(np.mean(np.abs(fit_combi_abs.resid) / df.duration), 2))"
   ]
  },
  {
   "cell_type": "markdown",
   "metadata": {},
   "source": [
    "## Store residuals"
   ]
  },
  {
   "cell_type": "code",
   "execution_count": 62,
   "metadata": {},
   "outputs": [],
   "source": [
    "df['resid_combi_abs'] = fit_combi_abs.resid\n",
    "df['resid_horiz'] = fit_horiz.resid\n",
    "df.to_csv('data/combined_data_residuals.csv')"
   ]
  },
  {
   "cell_type": "markdown",
   "metadata": {},
   "source": [
    "## Store models"
   ]
  },
  {
   "cell_type": "code",
   "execution_count": 63,
   "metadata": {},
   "outputs": [],
   "source": [
    "fit_horiz.save(\"models/fit_horiz.pickle\")\n",
    "fit_combi_abs.save(\"models/fit_combi_abs.pickle\")"
   ]
  }
 ],
 "metadata": {
  "colab": {
   "authorship_tag": "ABX9TyOe5aD3jorTdwaVSEazKz4O",
   "name": "02_regression_analysis.ipynb",
   "provenance": []
  },
  "kernelspec": {
   "display_name": "Python 3",
   "language": "python",
   "name": "python3"
  },
  "language_info": {
   "codemirror_mode": {
    "name": "ipython",
    "version": 3
   },
   "file_extension": ".py",
   "mimetype": "text/x-python",
   "name": "python",
   "nbconvert_exporter": "python",
   "pygments_lexer": "ipython3",
   "version": "3.7.4"
  }
 },
 "nbformat": 4,
 "nbformat_minor": 1
}
