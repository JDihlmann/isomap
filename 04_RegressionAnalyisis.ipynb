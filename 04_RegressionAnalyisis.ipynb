{
 "cells": [
  {
   "cell_type": "markdown",
   "metadata": {},
   "source": [
    "# Regression Analysis"
   ]
  },
  {
   "cell_type": "markdown",
   "metadata": {},
   "source": [
    "This Jupyter Notebook is part of the time travel distance project. In this notebook we use linear regression to estimate the travel duration between the Tübinger town hall (start location) and various places in Tübingen. "
   ]
  },
  {
   "cell_type": "code",
   "execution_count": 1,
   "metadata": {
    "executionInfo": {
     "elapsed": 233,
     "status": "ok",
     "timestamp": 1642434630159,
     "user": {
      "displayName": "Frederic Becker",
      "photoUrl": "https://lh3.googleusercontent.com/a/default-user=s64",
      "userId": "02822531336283999073"
     },
     "user_tz": -60
    },
    "id": "rtJaTo9-wUvF"
   },
   "outputs": [],
   "source": [
    "import numpy as np\n",
    "import pandas as pd\n",
    "import statsmodels.formula.api as smf\n",
    "import matplotlib.pyplot as plt\n",
    "\n",
    "from IPython.display import Image\n",
    "from IPython.core.display import HTML "
   ]
  },
  {
   "cell_type": "code",
   "execution_count": 2,
   "metadata": {
    "executionInfo": {
     "elapsed": 479,
     "status": "ok",
     "timestamp": 1642434568083,
     "user": {
      "displayName": "Frederic Becker",
      "photoUrl": "https://lh3.googleusercontent.com/a/default-user=s64",
      "userId": "02822531336283999073"
     },
     "user_tz": -60
    },
    "id": "j7Dq89jKwdyN"
   },
   "outputs": [],
   "source": [
    "# read data\n",
    "df = pd.read_csv('data/combined_data.csv')"
   ]
  },
  {
   "cell_type": "code",
   "execution_count": 3,
   "metadata": {
    "executionInfo": {
     "elapsed": 355,
     "status": "ok",
     "timestamp": 1642434576364,
     "user": {
      "displayName": "Frederic Becker",
      "photoUrl": "https://lh3.googleusercontent.com/a/default-user=s64",
      "userId": "02822531336283999073"
     },
     "user_tz": -60
    },
    "id": "3gXH6jWH5tce"
   },
   "outputs": [],
   "source": [
    "# convert to dummy variables\n",
    "df['isWalking'] = df['mode'].isin(['walking'])\n",
    "df['isBicycling'] = df['mode'].isin(['bicycling', 'walking'])"
   ]
  },
  {
   "cell_type": "markdown",
   "metadata": {
    "id": "Nh_VqWXPwoa5"
   },
   "source": [
    "# Only horizontal Model"
   ]
  },
  {
   "cell_type": "markdown",
   "metadata": {},
   "source": [
    "In this model, we only consider the horizontal distance (for each mean of transport seperately) as predictor. "
   ]
  },
  {
   "cell_type": "code",
   "execution_count": 4,
   "metadata": {
    "executionInfo": {
     "elapsed": 236,
     "status": "ok",
     "timestamp": 1642434582839,
     "user": {
      "displayName": "Frederic Becker",
      "photoUrl": "https://lh3.googleusercontent.com/a/default-user=s64",
      "userId": "02822531336283999073"
     },
     "user_tz": -60
    },
    "id": "pL-WMkoU5weq"
   },
   "outputs": [],
   "source": [
    "# create and fit model\n",
    "model_horiz = smf.ols(formula='duration ~ distance_horizontal + distance_horizontal:isBicycling + distance_horizontal:isWalking', data=df)\n",
    "fit_horiz = model_horiz.fit()"
   ]
  },
  {
   "cell_type": "code",
   "execution_count": 5,
   "metadata": {
    "colab": {
     "base_uri": "https://localhost:8080/",
     "height": 282
    },
    "executionInfo": {
     "elapsed": 632,
     "status": "ok",
     "timestamp": 1642434584466,
     "user": {
      "displayName": "Frederic Becker",
      "photoUrl": "https://lh3.googleusercontent.com/a/default-user=s64",
      "userId": "02822531336283999073"
     },
     "user_tz": -60
    },
    "id": "qN3jsfaNNN10",
    "outputId": "c97f3d1f-0f10-441f-f8a4-aadac1fb1957"
   },
   "outputs": [
    {
     "data": {
      "image/png": "[encoded data removed]",
      "text/plain": [
       "<Figure size 432x288 with 1 Axes>"
      ]
     },
     "metadata": {
      "needs_background": "light"
     },
     "output_type": "display_data"
    }
   ],
   "source": [
    "# residuals plot\n",
    "fit_horiz.resid.hist(bins=100);"
   ]
  },
  {
   "cell_type": "code",
   "execution_count": 6,
   "metadata": {
    "colab": {
     "base_uri": "https://localhost:8080/",
     "height": 513
    },
    "executionInfo": {
     "elapsed": 12,
     "status": "ok",
     "timestamp": 1642434585729,
     "user": {
      "displayName": "Frederic Becker",
      "photoUrl": "https://lh3.googleusercontent.com/a/default-user=s64",
      "userId": "02822531336283999073"
     },
     "user_tz": -60
    },
    "id": "ydnIgmOj580b",
    "outputId": "9465f6ed-a108-43b9-fee4-2291ab060f7f"
   },
   "outputs": [
    {
     "data": {
      "text/html": [
       "<table class=\"simpletable\">\n",
       "<caption>OLS Regression Results</caption>\n",
       "<tr>\n",
       "  <th>Dep. Variable:</th>        <td>duration</td>     <th>  R-squared:         </th> <td>   0.914</td> \n",
       "</tr>\n",
       "<tr>\n",
       "  <th>Model:</th>                   <td>OLS</td>       <th>  Adj. R-squared:    </th> <td>   0.914</td> \n",
       "</tr>\n",
       "<tr>\n",
       "  <th>Method:</th>             <td>Least Squares</td>  <th>  F-statistic:       </th> <td>1.699e+04</td>\n",
       "</tr>\n",
       "<tr>\n",
       "  <th>Date:</th>             <td>Sat, 22 Jan 2022</td> <th>  Prob (F-statistic):</th>  <td>  0.00</td>  \n",
       "</tr>\n",
       "<tr>\n",
       "  <th>Time:</th>                 <td>17:09:47</td>     <th>  Log-Likelihood:    </th> <td> -33478.</td> \n",
       "</tr>\n",
       "<tr>\n",
       "  <th>No. Observations:</th>      <td>  4800</td>      <th>  AIC:               </th> <td>6.696e+04</td>\n",
       "</tr>\n",
       "<tr>\n",
       "  <th>Df Residuals:</th>          <td>  4796</td>      <th>  BIC:               </th> <td>6.699e+04</td>\n",
       "</tr>\n",
       "<tr>\n",
       "  <th>Df Model:</th>              <td>     3</td>      <th>                     </th>     <td> </td>    \n",
       "</tr>\n",
       "<tr>\n",
       "  <th>Covariance Type:</th>      <td>nonrobust</td>    <th>                     </th>     <td> </td>    \n",
       "</tr>\n",
       "</table>\n",
       "<table class=\"simpletable\">\n",
       "<tr>\n",
       "                     <td></td>                        <th>coef</th>     <th>std err</th>      <th>t</th>      <th>P>|t|</th>  <th>[0.025</th>    <th>0.975]</th>  \n",
       "</tr>\n",
       "<tr>\n",
       "  <th>Intercept</th>                               <td>  197.7785</td> <td>   10.632</td> <td>   18.602</td> <td> 0.000</td> <td>  176.935</td> <td>  218.622</td>\n",
       "</tr>\n",
       "<tr>\n",
       "  <th>distance_horizontal</th>                     <td>    0.1911</td> <td>    0.005</td> <td>   39.612</td> <td> 0.000</td> <td>    0.182</td> <td>    0.201</td>\n",
       "</tr>\n",
       "<tr>\n",
       "  <th>distance_horizontal:isBicycling[T.True]</th> <td>    0.1471</td> <td>    0.004</td> <td>   39.522</td> <td> 0.000</td> <td>    0.140</td> <td>    0.154</td>\n",
       "</tr>\n",
       "<tr>\n",
       "  <th>distance_horizontal:isWalking[T.True]</th>   <td>    0.5514</td> <td>    0.004</td> <td>  148.057</td> <td> 0.000</td> <td>    0.544</td> <td>    0.559</td>\n",
       "</tr>\n",
       "</table>\n",
       "<table class=\"simpletable\">\n",
       "<tr>\n",
       "  <th>Omnibus:</th>       <td>493.049</td> <th>  Durbin-Watson:     </th> <td>   0.468</td> \n",
       "</tr>\n",
       "<tr>\n",
       "  <th>Prob(Omnibus):</th> <td> 0.000</td>  <th>  Jarque-Bera (JB):  </th> <td>1007.245</td> \n",
       "</tr>\n",
       "<tr>\n",
       "  <th>Skew:</th>          <td> 0.658</td>  <th>  Prob(JB):          </th> <td>1.90e-219</td>\n",
       "</tr>\n",
       "<tr>\n",
       "  <th>Kurtosis:</th>      <td> 4.818</td>  <th>  Cond. No.          </th> <td>9.07e+03</td> \n",
       "</tr>\n",
       "</table><br/><br/>Warnings:<br/>[1] Standard Errors assume that the covariance matrix of the errors is correctly specified.<br/>[2] The condition number is large, 9.07e+03. This might indicate that there are<br/>strong multicollinearity or other numerical problems."
      ],
      "text/plain": [
       "<class 'statsmodels.iolib.summary.Summary'>\n",
       "\"\"\"\n",
       "                            OLS Regression Results                            \n",
       "==============================================================================\n",
       "Dep. Variable:               duration   R-squared:                       0.914\n",
       "Model:                            OLS   Adj. R-squared:                  0.914\n",
       "Method:                 Least Squares   F-statistic:                 1.699e+04\n",
       "Date:                Sat, 22 Jan 2022   Prob (F-statistic):               0.00\n",
       "Time:                        17:09:47   Log-Likelihood:                -33478.\n",
       "No. Observations:                4800   AIC:                         6.696e+04\n",
       "Df Residuals:                    4796   BIC:                         6.699e+04\n",
       "Df Model:                           3                                         \n",
       "Covariance Type:            nonrobust                                         \n",
       "===========================================================================================================\n",
       "                                              coef    std err          t      P>|t|      [0.025      0.975]\n",
       "-----------------------------------------------------------------------------------------------------------\n",
       "Intercept                                 197.7785     10.632     18.602      0.000     176.935     218.622\n",
       "distance_horizontal                         0.1911      0.005     39.612      0.000       0.182       0.201\n",
       "distance_horizontal:isBicycling[T.True]     0.1471      0.004     39.522      0.000       0.140       0.154\n",
       "distance_horizontal:isWalking[T.True]       0.5514      0.004    148.057      0.000       0.544       0.559\n",
       "==============================================================================\n",
       "Omnibus:                      493.049   Durbin-Watson:                   0.468\n",
       "Prob(Omnibus):                  0.000   Jarque-Bera (JB):             1007.245\n",
       "Skew:                           0.658   Prob(JB):                    1.90e-219\n",
       "Kurtosis:                       4.818   Cond. No.                     9.07e+03\n",
       "==============================================================================\n",
       "\n",
       "Warnings:\n",
       "[1] Standard Errors assume that the covariance matrix of the errors is correctly specified.\n",
       "[2] The condition number is large, 9.07e+03. This might indicate that there are\n",
       "strong multicollinearity or other numerical problems.\n",
       "\"\"\""
      ]
     },
     "execution_count": 6,
     "metadata": {},
     "output_type": "execute_result"
    }
   ],
   "source": [
    "fit_horiz.summary()"
   ]
  },
  {
   "cell_type": "markdown",
   "metadata": {
    "id": "brCnjpGz6gUc"
   },
   "source": [
    "# Only vertical Model"
   ]
  },
  {
   "cell_type": "markdown",
   "metadata": {},
   "source": [
    "In this model, we only consider the vertical distance (for each mean of transport seperately) as predictor. "
   ]
  },
  {
   "cell_type": "code",
   "execution_count": 7,
   "metadata": {
    "executionInfo": {
     "elapsed": 249,
     "status": "ok",
     "timestamp": 1642434638774,
     "user": {
      "displayName": "Frederic Becker",
      "photoUrl": "https://lh3.googleusercontent.com/a/default-user=s64",
      "userId": "02822531336283999073"
     },
     "user_tz": -60
    },
    "id": "pH6MmAFP6k5Q"
   },
   "outputs": [],
   "source": [
    "# create and fit model\n",
    "model_vertic = smf.ols(formula='duration ~ distance_vertical + distance_vertical:isBicycling + distance_vertical:isWalking', data=df)\n",
    "fit_vertic = model_vertic.fit()"
   ]
  },
  {
   "cell_type": "code",
   "execution_count": 8,
   "metadata": {
    "colab": {
     "base_uri": "https://localhost:8080/",
     "height": 282
    },
    "executionInfo": {
     "elapsed": 711,
     "status": "ok",
     "timestamp": 1642434640132,
     "user": {
      "displayName": "Frederic Becker",
      "photoUrl": "https://lh3.googleusercontent.com/a/default-user=s64",
      "userId": "02822531336283999073"
     },
     "user_tz": -60
    },
    "id": "ZJCXmiq8NSFP",
    "outputId": "dc6362f6-ebae-4621-e8bb-fc8b26517a62"
   },
   "outputs": [
    {
     "data": {
      "image/png": "[encoded data removed]",
      "text/plain": [
       "<Figure size 432x288 with 1 Axes>"
      ]
     },
     "metadata": {
      "needs_background": "light"
     },
     "output_type": "display_data"
    }
   ],
   "source": [
    "# residuals plot\n",
    "fit_vertic.resid.hist(bins=100);"
   ]
  },
  {
   "cell_type": "code",
   "execution_count": 9,
   "metadata": {
    "colab": {
     "base_uri": "https://localhost:8080/",
     "height": 478
    },
    "executionInfo": {
     "elapsed": 6,
     "status": "ok",
     "timestamp": 1642434642169,
     "user": {
      "displayName": "Frederic Becker",
      "photoUrl": "https://lh3.googleusercontent.com/a/default-user=s64",
      "userId": "02822531336283999073"
     },
     "user_tz": -60
    },
    "id": "-3Icd2w_6lYB",
    "outputId": "284f757a-efc9-4820-82f7-671b201db564"
   },
   "outputs": [
    {
     "data": {
      "text/html": [
       "<table class=\"simpletable\">\n",
       "<caption>OLS Regression Results</caption>\n",
       "<tr>\n",
       "  <th>Dep. Variable:</th>        <td>duration</td>     <th>  R-squared:         </th> <td>   0.463</td> \n",
       "</tr>\n",
       "<tr>\n",
       "  <th>Model:</th>                   <td>OLS</td>       <th>  Adj. R-squared:    </th> <td>   0.463</td> \n",
       "</tr>\n",
       "<tr>\n",
       "  <th>Method:</th>             <td>Least Squares</td>  <th>  F-statistic:       </th> <td>   1378.</td> \n",
       "</tr>\n",
       "<tr>\n",
       "  <th>Date:</th>             <td>Sat, 22 Jan 2022</td> <th>  Prob (F-statistic):</th>  <td>  0.00</td>  \n",
       "</tr>\n",
       "<tr>\n",
       "  <th>Time:</th>                 <td>17:09:47</td>     <th>  Log-Likelihood:    </th> <td> -37874.</td> \n",
       "</tr>\n",
       "<tr>\n",
       "  <th>No. Observations:</th>      <td>  4800</td>      <th>  AIC:               </th> <td>7.576e+04</td>\n",
       "</tr>\n",
       "<tr>\n",
       "  <th>Df Residuals:</th>          <td>  4796</td>      <th>  BIC:               </th> <td>7.578e+04</td>\n",
       "</tr>\n",
       "<tr>\n",
       "  <th>Df Model:</th>              <td>     3</td>      <th>                     </th>     <td> </td>    \n",
       "</tr>\n",
       "<tr>\n",
       "  <th>Covariance Type:</th>      <td>nonrobust</td>    <th>                     </th>     <td> </td>    \n",
       "</tr>\n",
       "</table>\n",
       "<table class=\"simpletable\">\n",
       "<tr>\n",
       "                    <td></td>                       <th>coef</th>     <th>std err</th>      <th>t</th>      <th>P>|t|</th>  <th>[0.025</th>    <th>0.975]</th>  \n",
       "</tr>\n",
       "<tr>\n",
       "  <th>Intercept</th>                             <td> 1056.6214</td> <td>   11.712</td> <td>   90.219</td> <td> 0.000</td> <td> 1033.661</td> <td> 1079.582</td>\n",
       "</tr>\n",
       "<tr>\n",
       "  <th>distance_vertical</th>                     <td>   -2.9399</td> <td>    0.282</td> <td>  -10.442</td> <td> 0.000</td> <td>   -3.492</td> <td>   -2.388</td>\n",
       "</tr>\n",
       "<tr>\n",
       "  <th>distance_vertical:isBicycling[T.True]</th> <td>    6.3937</td> <td>    0.359</td> <td>   17.827</td> <td> 0.000</td> <td>    5.691</td> <td>    7.097</td>\n",
       "</tr>\n",
       "<tr>\n",
       "  <th>distance_vertical:isWalking[T.True]</th>   <td>   13.0261</td> <td>    0.351</td> <td>   37.138</td> <td> 0.000</td> <td>   12.338</td> <td>   13.714</td>\n",
       "</tr>\n",
       "</table>\n",
       "<table class=\"simpletable\">\n",
       "<tr>\n",
       "  <th>Omnibus:</th>       <td>922.446</td> <th>  Durbin-Watson:     </th> <td>   0.136</td>\n",
       "</tr>\n",
       "<tr>\n",
       "  <th>Prob(Omnibus):</th> <td> 0.000</td>  <th>  Jarque-Bera (JB):  </th> <td>1591.947</td>\n",
       "</tr>\n",
       "<tr>\n",
       "  <th>Skew:</th>          <td> 1.252</td>  <th>  Prob(JB):          </th> <td>    0.00</td>\n",
       "</tr>\n",
       "<tr>\n",
       "  <th>Kurtosis:</th>      <td> 4.301</td>  <th>  Cond. No.          </th> <td>    106.</td>\n",
       "</tr>\n",
       "</table><br/><br/>Warnings:<br/>[1] Standard Errors assume that the covariance matrix of the errors is correctly specified."
      ],
      "text/plain": [
       "<class 'statsmodels.iolib.summary.Summary'>\n",
       "\"\"\"\n",
       "                            OLS Regression Results                            \n",
       "==============================================================================\n",
       "Dep. Variable:               duration   R-squared:                       0.463\n",
       "Model:                            OLS   Adj. R-squared:                  0.463\n",
       "Method:                 Least Squares   F-statistic:                     1378.\n",
       "Date:                Sat, 22 Jan 2022   Prob (F-statistic):               0.00\n",
       "Time:                        17:09:47   Log-Likelihood:                -37874.\n",
       "No. Observations:                4800   AIC:                         7.576e+04\n",
       "Df Residuals:                    4796   BIC:                         7.578e+04\n",
       "Df Model:                           3                                         \n",
       "Covariance Type:            nonrobust                                         \n",
       "=========================================================================================================\n",
       "                                            coef    std err          t      P>|t|      [0.025      0.975]\n",
       "---------------------------------------------------------------------------------------------------------\n",
       "Intercept                              1056.6214     11.712     90.219      0.000    1033.661    1079.582\n",
       "distance_vertical                        -2.9399      0.282    -10.442      0.000      -3.492      -2.388\n",
       "distance_vertical:isBicycling[T.True]     6.3937      0.359     17.827      0.000       5.691       7.097\n",
       "distance_vertical:isWalking[T.True]      13.0261      0.351     37.138      0.000      12.338      13.714\n",
       "==============================================================================\n",
       "Omnibus:                      922.446   Durbin-Watson:                   0.136\n",
       "Prob(Omnibus):                  0.000   Jarque-Bera (JB):             1591.947\n",
       "Skew:                           1.252   Prob(JB):                         0.00\n",
       "Kurtosis:                       4.301   Cond. No.                         106.\n",
       "==============================================================================\n",
       "\n",
       "Warnings:\n",
       "[1] Standard Errors assume that the covariance matrix of the errors is correctly specified.\n",
       "\"\"\""
      ]
     },
     "execution_count": 9,
     "metadata": {},
     "output_type": "execute_result"
    }
   ],
   "source": [
    "fit_vertic.summary()"
   ]
  },
  {
   "cell_type": "markdown",
   "metadata": {
    "id": "oaGj9kXk7OEG"
   },
   "source": [
    "# Combined Model"
   ]
  },
  {
   "cell_type": "markdown",
   "metadata": {},
   "source": [
    "In this model, we consider the horizontal distance (for each mean of transport seperately) and the  vertical distance (for each mean of transport seperately) as predictors. "
   ]
  },
  {
   "cell_type": "code",
   "execution_count": 10,
   "metadata": {
    "executionInfo": {
     "elapsed": 236,
     "status": "ok",
     "timestamp": 1642434766231,
     "user": {
      "displayName": "Frederic Becker",
      "photoUrl": "https://lh3.googleusercontent.com/a/default-user=s64",
      "userId": "02822531336283999073"
     },
     "user_tz": -60
    },
    "id": "eA8cch0R7P5_"
   },
   "outputs": [],
   "source": [
    "# create and fit\n",
    "model_combi = smf.ols(formula='duration ~ distance_horizontal + distance_horizontal:isBicycling + distance_horizontal:isWalking + distance_vertical + distance_vertical:isBicycling + distance_vertical:isWalking', data=df)\n",
    "fit_combi = model_combi.fit()"
   ]
  },
  {
   "cell_type": "code",
   "execution_count": 11,
   "metadata": {
    "colab": {
     "base_uri": "https://localhost:8080/",
     "height": 282
    },
    "executionInfo": {
     "elapsed": 493,
     "status": "ok",
     "timestamp": 1642434767821,
     "user": {
      "displayName": "Frederic Becker",
      "photoUrl": "https://lh3.googleusercontent.com/a/default-user=s64",
      "userId": "02822531336283999073"
     },
     "user_tz": -60
    },
    "id": "EwP6eI_5NX8i",
    "outputId": "a5d9e7de-dd00-4fcf-89a5-30175726c1ff"
   },
   "outputs": [
    {
     "data": {
      "image/png": "[encoded data removed]",
      "text/plain": [
       "<Figure size 432x288 with 1 Axes>"
      ]
     },
     "metadata": {
      "needs_background": "light"
     },
     "output_type": "display_data"
    }
   ],
   "source": [
    "# residuals plot\n",
    "fit_combi.resid.hist(bins=100);"
   ]
  },
  {
   "cell_type": "code",
   "execution_count": 12,
   "metadata": {
    "colab": {
     "base_uri": "https://localhost:8080/",
     "height": 575
    },
    "executionInfo": {
     "elapsed": 256,
     "status": "ok",
     "timestamp": 1642434773970,
     "user": {
      "displayName": "Frederic Becker",
      "photoUrl": "https://lh3.googleusercontent.com/a/default-user=s64",
      "userId": "02822531336283999073"
     },
     "user_tz": -60
    },
    "id": "LnCwcfT_7gyn",
    "outputId": "99ce1844-5e04-4cf9-8a1f-d3cd61e85bf0"
   },
   "outputs": [
    {
     "data": {
      "text/html": [
       "<table class=\"simpletable\">\n",
       "<caption>OLS Regression Results</caption>\n",
       "<tr>\n",
       "  <th>Dep. Variable:</th>        <td>duration</td>     <th>  R-squared:         </th> <td>   0.954</td> \n",
       "</tr>\n",
       "<tr>\n",
       "  <th>Model:</th>                   <td>OLS</td>       <th>  Adj. R-squared:    </th> <td>   0.954</td> \n",
       "</tr>\n",
       "<tr>\n",
       "  <th>Method:</th>             <td>Least Squares</td>  <th>  F-statistic:       </th> <td>1.671e+04</td>\n",
       "</tr>\n",
       "<tr>\n",
       "  <th>Date:</th>             <td>Sat, 22 Jan 2022</td> <th>  Prob (F-statistic):</th>  <td>  0.00</td>  \n",
       "</tr>\n",
       "<tr>\n",
       "  <th>Time:</th>                 <td>17:09:48</td>     <th>  Log-Likelihood:    </th> <td> -31956.</td> \n",
       "</tr>\n",
       "<tr>\n",
       "  <th>No. Observations:</th>      <td>  4800</td>      <th>  AIC:               </th> <td>6.393e+04</td>\n",
       "</tr>\n",
       "<tr>\n",
       "  <th>Df Residuals:</th>          <td>  4793</td>      <th>  BIC:               </th> <td>6.397e+04</td>\n",
       "</tr>\n",
       "<tr>\n",
       "  <th>Df Model:</th>              <td>     6</td>      <th>                     </th>     <td> </td>    \n",
       "</tr>\n",
       "<tr>\n",
       "  <th>Covariance Type:</th>      <td>nonrobust</td>    <th>                     </th>     <td> </td>    \n",
       "</tr>\n",
       "</table>\n",
       "<table class=\"simpletable\">\n",
       "<tr>\n",
       "                     <td></td>                        <th>coef</th>     <th>std err</th>      <th>t</th>      <th>P>|t|</th>  <th>[0.025</th>    <th>0.975]</th>  \n",
       "</tr>\n",
       "<tr>\n",
       "  <th>Intercept</th>                               <td>  232.0232</td> <td>    7.772</td> <td>   29.855</td> <td> 0.000</td> <td>  216.787</td> <td>  247.259</td>\n",
       "</tr>\n",
       "<tr>\n",
       "  <th>distance_horizontal</th>                     <td>    0.1708</td> <td>    0.004</td> <td>   43.268</td> <td> 0.000</td> <td>    0.163</td> <td>    0.179</td>\n",
       "</tr>\n",
       "<tr>\n",
       "  <th>distance_horizontal:isBicycling[T.True]</th> <td>    0.0583</td> <td>    0.004</td> <td>   16.096</td> <td> 0.000</td> <td>    0.051</td> <td>    0.065</td>\n",
       "</tr>\n",
       "<tr>\n",
       "  <th>distance_horizontal:isWalking[T.True]</th>   <td>    0.5849</td> <td>    0.004</td> <td>  158.883</td> <td> 0.000</td> <td>    0.578</td> <td>    0.592</td>\n",
       "</tr>\n",
       "<tr>\n",
       "  <th>distance_vertical</th>                       <td>    0.4397</td> <td>    0.100</td> <td>    4.412</td> <td> 0.000</td> <td>    0.244</td> <td>    0.635</td>\n",
       "</tr>\n",
       "<tr>\n",
       "  <th>distance_vertical:isBicycling[T.True]</th>   <td>    4.9179</td> <td>    0.140</td> <td>   35.199</td> <td> 0.000</td> <td>    4.644</td> <td>    5.192</td>\n",
       "</tr>\n",
       "<tr>\n",
       "  <th>distance_vertical:isWalking[T.True]</th>     <td>   -1.8777</td> <td>    0.139</td> <td>  -13.534</td> <td> 0.000</td> <td>   -2.150</td> <td>   -1.606</td>\n",
       "</tr>\n",
       "</table>\n",
       "<table class=\"simpletable\">\n",
       "<tr>\n",
       "  <th>Omnibus:</th>       <td>1864.913</td> <th>  Durbin-Watson:     </th> <td>   0.615</td> \n",
       "</tr>\n",
       "<tr>\n",
       "  <th>Prob(Omnibus):</th>  <td> 0.000</td>  <th>  Jarque-Bera (JB):  </th> <td>13733.715</td>\n",
       "</tr>\n",
       "<tr>\n",
       "  <th>Skew:</th>           <td> 1.671</td>  <th>  Prob(JB):          </th> <td>    0.00</td> \n",
       "</tr>\n",
       "<tr>\n",
       "  <th>Kurtosis:</th>       <td>10.582</td>  <th>  Cond. No.          </th> <td>9.10e+03</td> \n",
       "</tr>\n",
       "</table><br/><br/>Warnings:<br/>[1] Standard Errors assume that the covariance matrix of the errors is correctly specified.<br/>[2] The condition number is large, 9.1e+03. This might indicate that there are<br/>strong multicollinearity or other numerical problems."
      ],
      "text/plain": [
       "<class 'statsmodels.iolib.summary.Summary'>\n",
       "\"\"\"\n",
       "                            OLS Regression Results                            \n",
       "==============================================================================\n",
       "Dep. Variable:               duration   R-squared:                       0.954\n",
       "Model:                            OLS   Adj. R-squared:                  0.954\n",
       "Method:                 Least Squares   F-statistic:                 1.671e+04\n",
       "Date:                Sat, 22 Jan 2022   Prob (F-statistic):               0.00\n",
       "Time:                        17:09:48   Log-Likelihood:                -31956.\n",
       "No. Observations:                4800   AIC:                         6.393e+04\n",
       "Df Residuals:                    4793   BIC:                         6.397e+04\n",
       "Df Model:                           6                                         \n",
       "Covariance Type:            nonrobust                                         \n",
       "===========================================================================================================\n",
       "                                              coef    std err          t      P>|t|      [0.025      0.975]\n",
       "-----------------------------------------------------------------------------------------------------------\n",
       "Intercept                                 232.0232      7.772     29.855      0.000     216.787     247.259\n",
       "distance_horizontal                         0.1708      0.004     43.268      0.000       0.163       0.179\n",
       "distance_horizontal:isBicycling[T.True]     0.0583      0.004     16.096      0.000       0.051       0.065\n",
       "distance_horizontal:isWalking[T.True]       0.5849      0.004    158.883      0.000       0.578       0.592\n",
       "distance_vertical                           0.4397      0.100      4.412      0.000       0.244       0.635\n",
       "distance_vertical:isBicycling[T.True]       4.9179      0.140     35.199      0.000       4.644       5.192\n",
       "distance_vertical:isWalking[T.True]        -1.8777      0.139    -13.534      0.000      -2.150      -1.606\n",
       "==============================================================================\n",
       "Omnibus:                     1864.913   Durbin-Watson:                   0.615\n",
       "Prob(Omnibus):                  0.000   Jarque-Bera (JB):            13733.715\n",
       "Skew:                           1.671   Prob(JB):                         0.00\n",
       "Kurtosis:                      10.582   Cond. No.                     9.10e+03\n",
       "==============================================================================\n",
       "\n",
       "Warnings:\n",
       "[1] Standard Errors assume that the covariance matrix of the errors is correctly specified.\n",
       "[2] The condition number is large, 9.1e+03. This might indicate that there are\n",
       "strong multicollinearity or other numerical problems.\n",
       "\"\"\""
      ]
     },
     "execution_count": 12,
     "metadata": {},
     "output_type": "execute_result"
    }
   ],
   "source": [
    "fit_combi.summary()"
   ]
  },
  {
   "cell_type": "markdown",
   "metadata": {},
   "source": [
    "Pro Meter horizontaler Distanz braucht man mit dem Auto 0.17 Sekunden.\n",
    "Pro Meter horizontaler Distanz braucht man mit dem Fahrrad 0.23 Sekunden.\n",
    "Pro Meter horizontaler Distanz braucht man zu Fuß 0.81 Sekunden.\n",
    "\n",
    "--> Auf flachen Strecken sind die Zeiten von Fahrad und Auto also sehr ähnlich. \n",
    "--> Fußweg braucht länger."
   ]
  },
  {
   "cell_type": "markdown",
   "metadata": {},
   "source": [
    "Pro Meter vertikaler Distanz braucht man mit dem Auto 0.44 Sekunden.\n",
    "Pro Meter horizontaler Distanz braucht man mit dem Fahrrad 5.36 Sekunden.\n",
    "Pro Meter horizontaler Distanz braucht man zu Fuß 3.5 Sekunden.\n",
    "\n",
    "--> Bei ansteigenden Strecken büßt besonders das Fahrrad ein. \n",
    "--> Das Auto hat kaum Mehrzeiten wegen des Hügels.\n",
    "--> Zu Fuß verliert man weniger als das Fahrrad, was mit der gerinden GRundgeschwindigkeit zusammenhängen wird.\n",
    "\n",
    "Das ist vielleicht einer der Gründe wieso in hügeligen Städten weniger Fahrrad gefahren wird. Es ist tatsähclich eine kluge Entscheidung da der relative Verlust am Berg am größten ist. "
   ]
  },
  {
   "cell_type": "code",
   "execution_count": 13,
   "metadata": {},
   "outputs": [
    {
     "data": {
      "text/html": [
       "<img src=\"https://nationaler-radverkehrsplan.de/sites/default/files/images/nachrichten/srv-2018-06-weghaeufigkeit-vergleich-fahrrad-pedelec-topografie.jpg\"/>"
      ],
      "text/plain": [
       "<IPython.core.display.Image object>"
      ]
     },
     "execution_count": 13,
     "metadata": {},
     "output_type": "execute_result"
    }
   ],
   "source": [
    "Image(url= \"https://nationaler-radverkehrsplan.de/sites/default/files/images/nachrichten/srv-2018-06-weghaeufigkeit-vergleich-fahrrad-pedelec-topografie.jpg\")"
   ]
  },
  {
   "cell_type": "markdown",
   "metadata": {
    "id": "GSrWOGIDN3mk"
   },
   "source": [
    "# Comparison"
   ]
  },
  {
   "cell_type": "markdown",
   "metadata": {},
   "source": [
    "### BIC"
   ]
  },
  {
   "cell_type": "code",
   "execution_count": 14,
   "metadata": {},
   "outputs": [
    {
     "name": "stdout",
     "output_type": "stream",
     "text": [
      "Only Vertical: \t\t 75782.0\n",
      "Only Horizontal: \t 66989.0\n",
      "Horizontal + Vertical: \t 63971.0\n"
     ]
    }
   ],
   "source": [
    "print('Only Vertical: \\t\\t', round(fit_vertic.bic))\n",
    "print('Only Horizontal: \\t', round(fit_horiz.bic))\n",
    "print('Horizontal + Vertical: \\t', round(fit_combi.bic))"
   ]
  },
  {
   "cell_type": "markdown",
   "metadata": {},
   "source": [
    "### Mean absolute error"
   ]
  },
  {
   "cell_type": "code",
   "execution_count": 15,
   "metadata": {},
   "outputs": [
    {
     "name": "stdout",
     "output_type": "stream",
     "text": [
      "Only Vertical: \t\t 8.23\n",
      "Only Horizontal: \t 3.29\n",
      "Horizontal + Vertical: \t 2.33\n"
     ]
    }
   ],
   "source": [
    "print('Only Vertical: \\t\\t', round(np.mean(np.abs(fit_vertic.resid))/60, 2))\n",
    "print('Only Horizontal: \\t', round(np.mean(np.abs(fit_horiz.resid))/60, 2))\n",
    "print('Horizontal + Vertical: \\t', round(np.mean(np.abs(fit_combi.resid))/60, 2))"
   ]
  },
  {
   "cell_type": "code",
   "execution_count": 16,
   "metadata": {},
   "outputs": [],
   "source": [
    "# horizontal model better than vertical model\n",
    "# combined model better than horiziontal model\n",
    "\n",
    "# most information in horiziontal but vertical adds enough information to \n",
    "# justify higher complexity"
   ]
  },
  {
   "cell_type": "markdown",
   "metadata": {},
   "source": [
    "## Store residuals"
   ]
  },
  {
   "cell_type": "code",
   "execution_count": 17,
   "metadata": {},
   "outputs": [],
   "source": [
    "df['resid_combi'] = fit_combi.resid\n",
    "df['resid_horiz'] = fit_horiz.resid\n",
    "df['resid_vertic'] = fit_vertic.resid\n",
    "df.to_csv('data/combined_data_residuals.csv')"
   ]
  },
  {
   "cell_type": "markdown",
   "metadata": {},
   "source": [
    "## Store models"
   ]
  },
  {
   "cell_type": "code",
   "execution_count": 18,
   "metadata": {},
   "outputs": [],
   "source": [
    "fit_combi.save(\"models/fit_combi.pickle\")\n",
    "fit_horiz.save(\"models/fit_horiz.pickle\")\n",
    "fit_vertic.save(\"models/fit_vertic.pickle\")"
   ]
  }
 ],
 "metadata": {
  "colab": {
   "authorship_tag": "ABX9TyOe5aD3jorTdwaVSEazKz4O",
   "name": "02_regression_analysis.ipynb",
   "provenance": []
  },
  "kernelspec": {
   "display_name": "Python 3",
   "language": "python",
   "name": "python3"
  },
  "language_info": {
   "codemirror_mode": {
    "name": "ipython",
    "version": 3
   },
   "file_extension": ".py",
   "mimetype": "text/x-python",
   "name": "python",
   "nbconvert_exporter": "python",
   "pygments_lexer": "ipython3",
   "version": "3.7.4"
  }
 },
 "nbformat": 4,
 "nbformat_minor": 1
}
